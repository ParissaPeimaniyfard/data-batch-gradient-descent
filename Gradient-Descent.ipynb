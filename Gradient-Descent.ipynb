{
 "cells": [
  {
   "cell_type": "markdown",
   "metadata": {},
   "source": [
    "# Gradient Descent"
   ]
  },
  {
   "cell_type": "markdown",
   "metadata": {},
   "source": [
    "In this exercise, you will create the necessary functions to go through the steps of a single Gradient Descent Epoch. You will then combine the functions and create a loop through the entire Gradient Descent procedure."
   ]
  },
  {
   "cell_type": "markdown",
   "metadata": {},
   "source": [
    "## 1. Data Exploration"
   ]
  },
  {
   "cell_type": "markdown",
   "metadata": {},
   "source": [
    "We will import for you the following dataset of ingredients with their mineral content"
   ]
  },
  {
   "cell_type": "code",
   "execution_count": 13,
   "metadata": {},
   "outputs": [],
   "source": [
    "import pandas as pd\n",
    "import seaborn as sns\n",
    "import numpy as np"
   ]
  },
  {
   "cell_type": "code",
   "execution_count": 3,
   "metadata": {},
   "outputs": [
    {
     "data": {
      "text/html": [
       "<div>\n",
       "<style scoped>\n",
       "    .dataframe tbody tr th:only-of-type {\n",
       "        vertical-align: middle;\n",
       "    }\n",
       "\n",
       "    .dataframe tbody tr th {\n",
       "        vertical-align: top;\n",
       "    }\n",
       "\n",
       "    .dataframe thead th {\n",
       "        text-align: right;\n",
       "    }\n",
       "</style>\n",
       "<table border=\"1\" class=\"dataframe\">\n",
       "  <thead>\n",
       "    <tr style=\"text-align: right;\">\n",
       "      <th></th>\n",
       "      <th>aliment</th>\n",
       "      <th>zinc</th>\n",
       "      <th>phosphorus</th>\n",
       "    </tr>\n",
       "  </thead>\n",
       "  <tbody>\n",
       "    <tr>\n",
       "      <th>0</th>\n",
       "      <td>Durum wheat pre-cooked. whole grain. cooked. u...</td>\n",
       "      <td>0.120907</td>\n",
       "      <td>0.193784</td>\n",
       "    </tr>\n",
       "    <tr>\n",
       "      <th>1</th>\n",
       "      <td>Asian noodles. plain. cooked. unsalted</td>\n",
       "      <td>0.047859</td>\n",
       "      <td>0.060329</td>\n",
       "    </tr>\n",
       "    <tr>\n",
       "      <th>2</th>\n",
       "      <td>Rice. brown. cooked. unsalted</td>\n",
       "      <td>0.156171</td>\n",
       "      <td>0.201097</td>\n",
       "    </tr>\n",
       "    <tr>\n",
       "      <th>3</th>\n",
       "      <td>Rice. cooked. unsalted</td>\n",
       "      <td>0.065491</td>\n",
       "      <td>0.045704</td>\n",
       "    </tr>\n",
       "    <tr>\n",
       "      <th>4</th>\n",
       "      <td>Rice. parboiled. cooked. unsalted</td>\n",
       "      <td>0.025189</td>\n",
       "      <td>0.045704</td>\n",
       "    </tr>\n",
       "  </tbody>\n",
       "</table>\n",
       "</div>"
      ],
      "text/plain": [
       "                                             aliment      zinc  phosphorus\n",
       "0  Durum wheat pre-cooked. whole grain. cooked. u...  0.120907    0.193784\n",
       "1             Asian noodles. plain. cooked. unsalted  0.047859    0.060329\n",
       "2                      Rice. brown. cooked. unsalted  0.156171    0.201097\n",
       "3                             Rice. cooked. unsalted  0.065491    0.045704\n",
       "4                  Rice. parboiled. cooked. unsalted  0.025189    0.045704"
      ]
     },
     "execution_count": 3,
     "metadata": {},
     "output_type": "execute_result"
    }
   ],
   "source": [
    "data = pd.read_csv(\"https://wagon-public-datasets.s3.amazonaws.com/05-Machine-Learning/04-Under-the-Hood/gradient_descent_ingredients_zinc_phosphorous.csv\")\n",
    "data.head()"
   ]
  },
  {
   "cell_type": "markdown",
   "metadata": {},
   "source": [
    "👇 We can visualize a somewhat Linear relationship between the `Phosphorus` and `Zinc`.   \n",
    "\n",
    "Let's use Gradient Descent to find the line of best fit between them! "
   ]
  },
  {
   "cell_type": "code",
   "execution_count": 6,
   "metadata": {},
   "outputs": [
    {
     "data": {
      "image/png": "[encoded data removed]",
      "text/plain": [
       "<Figure size 640x480 with 1 Axes>"
      ]
     },
     "metadata": {},
     "output_type": "display_data"
    }
   ],
   "source": [
    "sns.scatterplot(data=data, x='zinc', y='phosphorus');"
   ]
  },
  {
   "cell_type": "markdown",
   "metadata": {},
   "source": [
    "❓ Create the two `np.Array`\n",
    "- `data_X` for zinc\n",
    "- `data_Y` for phosphorus"
   ]
  },
  {
   "cell_type": "code",
   "execution_count": 21,
   "metadata": {
    "tags": [
     "challengify"
    ]
   },
   "outputs": [],
   "source": [
    "data_X= np.array(data['zinc'])\n",
    "data_Y= np.array(data['phosphorus'])"
   ]
  },
  {
   "cell_type": "code",
   "execution_count": 17,
   "metadata": {},
   "outputs": [],
   "source": [
    "assert (data_X.shape == (53,))\n",
    "assert (data_Y.shape == (53,))"
   ]
  },
  {
   "cell_type": "markdown",
   "metadata": {},
   "source": [
    "## 2. Code one Epoch"
   ]
  },
  {
   "cell_type": "markdown",
   "metadata": {},
   "source": [
    "In this section of the exercise, you will define the key functions used to update the parameters during one epoch $\\color {red}{(k)}$ of gradient descent. Recall the formula below\n",
    "\n",
    "$$\n",
    "\\beta_0^{\\color {red}{(k+1)}} = \\beta_0^{\\color {red}{(k)}} - \\eta \\frac{\\partial L}{\\partial \\beta_0}(\\beta^{\\color{red}{(k)}})\n",
    "$$\n",
    "\n",
    "\n",
    "$$\n",
    "\\beta_1^{\\color {red}{(k+1)}} = \\beta_1^{\\color {red}{(k)}} - \\eta \\frac{\\partial L}{\\partial \\beta_1}(\\beta^{\\color {red}{(k)}})\n",
    "$$\n"
   ]
  },
  {
   "cell_type": "markdown",
   "metadata": {},
   "source": [
    "### 2.1 Hypothesis Function"
   ]
  },
  {
   "cell_type": "markdown",
   "metadata": {},
   "source": [
    "$$\n",
    "\\hat{y} =  a x + b\n",
    "$$\n",
    "\n",
    "❓ Define the hypothesis function of a Linear Regression. Let `a` be the slope and `b` the intercept.\n"
   ]
  },
  {
   "cell_type": "code",
   "execution_count": 22,
   "metadata": {},
   "outputs": [],
   "source": [
    "def h(X,a,b):\n",
    "    return a*X + b"
   ]
  },
  {
   "cell_type": "markdown",
   "metadata": {},
   "source": [
    "### 2.2 Loss Function"
   ]
  },
  {
   "cell_type": "markdown",
   "metadata": {},
   "source": [
    "$$\n",
    "Sum\\ Squares\\ Loss = \\sum_{i=0}^n (y^{(i)} - \\hat{y}^{(i)} )^2\n",
    "$$\n",
    "\n",
    "❓ Define the SSR Loss Function for the Hypothesis Function using the equation above. Reuse the function `h` coded above when writing your new function.\n"
   ]
  },
  {
   "cell_type": "code",
   "execution_count": 87,
   "metadata": {},
   "outputs": [],
   "source": [
    "def loss(X,Y,a,b):\n",
    "    y_pred= h(X,a,b)\n",
    "    loss_value= sum((Y-y_pred)**2)\n",
    "    return loss_value"
   ]
  },
  {
   "cell_type": "markdown",
   "metadata": {},
   "source": [
    "❓ What would be the total Loss computed on all our ingredients dataset if:\n",
    "- a = 1 \n",
    "- b = 1"
   ]
  },
  {
   "cell_type": "code",
   "execution_count": 88,
   "metadata": {
    "tags": [
     "challengify"
    ]
   },
   "outputs": [
    {
     "name": "stdout",
     "output_type": "stream",
     "text": [
      "63.86850698611546\n"
     ]
    }
   ],
   "source": [
    "print(loss(data_X, data_Y, 1, 1))"
   ]
  },
  {
   "cell_type": "markdown",
   "metadata": {},
   "source": [
    "⚠️ You should be getting 63.86. If not, something is wrong with your function. Fix it before moving on!"
   ]
  },
  {
   "cell_type": "markdown",
   "metadata": {},
   "source": [
    "### 2.3 Gradient"
   ]
  },
  {
   "cell_type": "markdown",
   "metadata": {},
   "source": [
    "$$\n",
    "\\frac{d\\ SSR}{d\\ slope}= \\sum_{i=0}^n -2  x_i (y^{(i)} - \\hat{y}^{(i)} )\n",
    "$$\n",
    "\n",
    "$$\n",
    "\\frac{d\\ SSR}{d\\ intercept}= \\sum_{i=0}^n -2(y^{(i)} - \\hat{y}^{(i)} ) \n",
    "$$\n",
    "\n",
    "❓ Define a function to compute the partial derivatives of the Loss Function relative to parameter `a` and `b` at a given point.\n"
   ]
  },
  {
   "cell_type": "markdown",
   "metadata": {},
   "source": [
    "<details>\n",
    "<summary>💡 Hint</summary>\n",
    "Again, you must re-use the Hypothesis Function in your new function to compute the predictions at given points.\n",
    "</details>"
   ]
  },
  {
   "cell_type": "code",
   "execution_count": 31,
   "metadata": {},
   "outputs": [],
   "source": [
    "def gradient(X,Y,a,b):\n",
    "    d_b= np.sum(-2*(Y- h(X,a,b)))\n",
    "    d_a= np.sum(-2*X*(Y- h(X,a,b)))\n",
    "    return d_a, d_b"
   ]
  },
  {
   "cell_type": "markdown",
   "metadata": {},
   "source": [
    "❓ Using your function, what would be the partial derivatives of each parameter if:\n",
    "- a = 1\n",
    "- b = 1"
   ]
  },
  {
   "cell_type": "code",
   "execution_count": 113,
   "metadata": {
    "tags": [
     "challengify"
    ]
   },
   "outputs": [
    {
     "name": "stdout",
     "output_type": "stream",
     "text": [
      "(48.459065809109006, 115.17923733301406)\n"
     ]
    }
   ],
   "source": [
    "a=1\n",
    "b=1\n",
    "print(gradient(data_X, data_Y, a, b))"
   ]
  },
  {
   "cell_type": "code",
   "execution_count": 114,
   "metadata": {},
   "outputs": [
    {
     "data": {
      "text/plain": [
       "115.17923733301406"
      ]
     },
     "execution_count": 114,
     "metadata": {},
     "output_type": "execute_result"
    }
   ],
   "source": [
    "gradient(data_X, data_Y, a, b)[1]"
   ]
  },
  {
   "cell_type": "markdown",
   "metadata": {},
   "source": [
    "⚠️ You should be getting 48.45 and  115.17. If not, fix your function!"
   ]
  },
  {
   "cell_type": "markdown",
   "metadata": {},
   "source": [
    "### 2.4 Step Sizes"
   ]
  },
  {
   "cell_type": "markdown",
   "metadata": {},
   "source": [
    "$$\n",
    "step\\ size = gradient \\cdot learning\\ rate\n",
    "$$"
   ]
  },
  {
   "cell_type": "markdown",
   "metadata": {},
   "source": [
    "❓ Define a function that calculates the step sizes alongside each parameter (`a`,`b`), according to their derivatives (`d_a`, `d_b`) and a `learning_rate` equal to `0.01` by default"
   ]
  },
  {
   "cell_type": "code",
   "execution_count": 37,
   "metadata": {},
   "outputs": [],
   "source": [
    "def steps(d_a,d_b, learning_rate = 0.01):\n",
    "    step_a= d_a * learning_rate\n",
    "    step_b= d_b * learning_rate\n",
    "    return (step_a, step_b)"
   ]
  },
  {
   "cell_type": "markdown",
   "metadata": {},
   "source": [
    "❓ What would be the steps (`step_a`, `step_b`) to take for the derivatives computed above for (`a`,`b`) = (1,1)?"
   ]
  },
  {
   "cell_type": "code",
   "execution_count": 115,
   "metadata": {
    "tags": [
     "challengify"
    ]
   },
   "outputs": [
    {
     "data": {
      "text/plain": [
       "(0.4845906580910901, 1.1517923733301405)"
      ]
     },
     "execution_count": 115,
     "metadata": {},
     "output_type": "execute_result"
    }
   ],
   "source": [
    "steps(gradient(data_X, data_Y, a, b)[0], gradient(data_X, data_Y, a, b)[1], learning_rate = 0.01)"
   ]
  },
  {
   "cell_type": "markdown",
   "metadata": {},
   "source": [
    "⚠️ The steps should be 0.48 for `a` and 1.15 for `b`"
   ]
  },
  {
   "cell_type": "markdown",
   "metadata": {},
   "source": [
    "### 2.5 Update parameters (a, b)"
   ]
  },
  {
   "cell_type": "markdown",
   "metadata": {},
   "source": [
    "$$\n",
    "updated\\ parameter = old\\ parameter\\ value - step\\ size\n",
    "$$"
   ]
  },
  {
   "cell_type": "markdown",
   "metadata": {},
   "source": [
    "❓ Define a function that computes the updated parameter values from the old parameter values and the step sizes."
   ]
  },
  {
   "cell_type": "code",
   "execution_count": 41,
   "metadata": {},
   "outputs": [],
   "source": [
    "def update_params(a, b, step_a, step_b):\n",
    "    a_new= a - step_a\n",
    "    b_new= b - step_b\n",
    "    return a_new , b_new"
   ]
  },
  {
   "cell_type": "markdown",
   "metadata": {},
   "source": [
    "### 2.6 One full epoch"
   ]
  },
  {
   "cell_type": "markdown",
   "metadata": {},
   "source": [
    "❓ Using the functions you just created, compute the updated parameters at the end of the first Epoch, had you started with parameters:\n",
    "- a = 1\n",
    "- b = 1"
   ]
  },
  {
   "cell_type": "code",
   "execution_count": 117,
   "metadata": {
    "tags": [
     "challengify"
    ]
   },
   "outputs": [
    {
     "data": {
      "text/plain": [
       "(0.5154093419089099, -0.1517923733301405)"
      ]
     },
     "execution_count": 117,
     "metadata": {},
     "output_type": "execute_result"
    }
   ],
   "source": [
    "a=1\n",
    "b=1\n",
    "updat_ab= update_params(a,b, steps(gradient(data_X, data_Y, a, b)[0], \n",
    "                         gradient(data_X, data_Y, a, b)[1], learning_rate = 0.01)[0],\n",
    "             steps(gradient(data_X, data_Y, a, b)[0], \n",
    "                   gradient(data_X, data_Y, a, b)[1], learning_rate = 0.01)[1])\n",
    "updat_ab"
   ]
  },
  {
   "cell_type": "markdown",
   "metadata": {},
   "source": [
    "⚠️ You should be getting the following values:\n",
    "   - updated_a = 0.51\n",
    "   - updated_b = -0.15"
   ]
  },
  {
   "cell_type": "markdown",
   "metadata": {},
   "source": [
    "## 3. Gradient Descent"
   ]
  },
  {
   "cell_type": "markdown",
   "metadata": {},
   "source": [
    "❓ Now that you have the necessary functions for a Gradient Descent, loop through epochs until convergence.\n",
    "\n",
    "- Initialize parameters `a = 1` and  `b = 1`\n",
    "- Consider convergence to be **100 epochs**\n",
    "- Don't forget to start each new epoch with the updated parameters\n",
    "- Append the values for `loss`, `a`, and `b` at each epoch to their corresponding lists called `loss_history`, `a_history` and `b_history`"
   ]
  },
  {
   "cell_type": "code",
   "execution_count": 119,
   "metadata": {
    "tags": [
     "challengify"
    ]
   },
   "outputs": [
    {
     "name": "stdout",
     "output_type": "stream",
     "text": [
      "[0.5154093419089099, 0.6475338480410271, 0.6273545046153022, 0.6437520254549167, 0.6504040813696262, 0.6587355634769616, 0.6659889132103662, 0.6728856930511895, 0.6792902431448742, 0.685274609433956, 0.6908572504746171, 0.6960673673055952, 0.7009292694951631, 0.7054663644254688, 0.7097003182996756, 0.7136513932777129, 0.7173384870685168, 0.7207792374040749, 0.7239901029529684, 0.7269864428989624, 0.7297825902031633, 0.7323919202167937, 0.7348269146495194, 0.7370992212786975, 0.7392197096656721, 0.7411985231504238, 0.7430451273721139, 0.7447683555479074, 0.7463764507265975, 0.7478771052191667, 0.7492774973948976, 0.7505843260190471, 0.7518038422963396, 0.7529418797735559, 0.7540038822442603, 0.7549949297891452, 0.7559197630765584, 0.7567828060394535, 0.7575881870372398, 0.7583397586037577, 0.7590411158758447, 0.7596956137906451, 0.7603063831339264, 0.7608763455161688, 0.7614082273480665, 0.7619045728822924, 0.7623677563839117, 0.7627999934876603, 0.7632033517964163, 0.7635797607715635, 0.7639310209625543, 0.7642588126198245, 0.7645647037322585, 0.764850157527652, 0.7651165394720509, 0.7653651238014482, 0.7655970996170813, 0.7658135765734894, 0.7660155901865369, 0.766204106786796, 0.7663800281419817, 0.7665441957705503, 0.7666973949670971, 0.7668403585588064, 0.7669737704109252, 0.7670982686980272, 0.7672144489567163, 0.7673228669343709, 0.7674240412475575, 0.767518455862829, 0.7676065624117752, 0.7676887823513987, 0.7677655089801517, 0.7678371093192757, 0.7679039258684451, 0.7679662782441115, 0.7680244647083867, 0.7680787635957775, 0.7681294346445963, 0.7681767202394172, 0.7682208465705213, 0.7682620247158758, 0.7683004516508238, 0.7683363111903149, 0.7683697748681816, 0.768401002757671, 0.7684301442371535, 0.7684573387046733, 0.7684827162447575, 0.7685063982506751, 0.7685284980051201, 0.7685491212220988, 0.768568366552612, 0.7685863260565506, 0.7686030856430646, 0.7686187254815076, 0.7686333203849272, 0.7686469401679322, 0.7686596499806505, 0.768671510620374, 0.7686825788223819] [-0.1517923733301405, 0.1253351689484678, 0.05199049289780815, 0.0650535505555884, 0.05723081117298024, 0.05484465067703296, 0.05141136896993313, 0.04850372390367696, 0.045717605226107995, 0.04313549419319603, 0.04072151480231099, 0.038469895918032446, 0.03636844869256201, 0.034407469100029356, 0.03257749130625461, 0.030869782620625882, 0.029276169076884233, 0.02778902890253442, 0.02640124806315708, 0.025106188196032494, 0.023897654373459715, 0.02276986558774631, 0.021717427068735737, 0.020735304485102753, 0.01981879986091536, 0.01896352910333335, 0.018165401031228108, 0.017420597805074742, 0.016725556664339815, 0.016076952885044953, 0.015471683875974845, 0.014906854337455947, 0.014379762411712762, 0.013887886758551618, 0.013428874494549345, 0.01300052993805334, 0.012600804106155236, 0.012227784913396666, 0.011879688025323446, 0.0115548483231349, 0.011251711938601302, 0.010968828821146717, 0.010704845801543406, 0.010458500119036969, 0.01022861338094014, 0.010014085925800232, 0.009813891563177196, 0.009627072664869157, 0.009452735584105615, 0.009290046380794758, 0.009138226832377291, 0.008996550711205158, 0.008864340310636704, 0.008740963203232555, 0.008625829215543406, 0.008518387605020177, 0.00841812442554106, 0.008324560068954125, 0.008237246970875663, 0.008155767469769027, 0.008079731809064263, 0.008008776272760062, 0.007942561445591538, 0.007880770589439532, 0.007823108128216495, 0.007769298233980325, 0.007719083507513788, 0.00767222374705694, 0.0076284947993042656, 0.007587687487168774, 0.007549606609185155, 0.007514070005764905, 0.007480907687837503, 0.007449961023708908, 0.0074210819802480125, 0.007394132414771414, 0.007368983414238909, 0.0073455146785988655, 0.007323613945333864, 0.007303176452453975, 0.007284104437368382, 0.007266306669238875, 0.007249698012577713, 0.007234199020002982, 0.007219735552202126, 0.007206238423287695, 0.007193643069846779, 0.007181889242102591, 0.007170920715710011, 0.007160685022807024, 0.007151133201034916, 0.007142219559327335, 0.007133901459347391, 0.0071261391115274445, 0.007118895384736097, 0.007112135628661722, 0.007105827508062814, 0.0070999408480927895, 0.007094447489958678, 0.00708932115622393, 0.0070845373251103025] [63.86850698611546, 4.956802678221286, 1.3935754675861143, 1.1686929441073393, 1.1463724193599885, 1.1373957745671934, 1.1302092310311778, 1.1239889297075834, 1.1185743402972523, 1.1138592422651652, 1.1097531588184455, 1.1061774212625193, 1.103063529178614, 1.1003518301665027, 1.097990376609746, 1.0959339304938414, 1.0941430967865544, 1.0925835687530439, 1.0912254707468423, 1.0900427858865411, 1.0890128576542648, 1.0881159558681286, 1.0873348987140807, 1.0866547235964512, 1.0860624005017252, 1.085546582384519, 1.0850973877939207, 1.0847062115760018, 1.0843655600261641, 1.084068907333361, 1.0838105705660996, 1.0835856008053721, 1.0833896883389507, 1.0832190801008683, 1.0830705077744964, 1.0829411251818863, 1.0828284537599662, 1.082730335079072, 1.0826448894942342, 1.0825704801371003, 1.082505681558687, 1.0824492524222709, 1.0824001117232829, 1.082357318080665, 1.082320051702973, 1.0822875986837555, 1.0822593373253533, 1.082234726229127, 1.0822132939239704, 1.0821946298344025, 1.0821783764152357, 1.0821642223021395, 1.0821518963468735, 1.0821411624229493, 1.0821318149021812, 1.0821236747155065, 1.0821165859225796, 1.0821104127244494, 1.082105036862078, 1.0821003553508697, 1.0820962785078119, 1.082092728233427, 1.0820896365156387, 1.0820869441268681, 1.0820845994894253, 1.0820825576874387, 1.0820807796064122, 1.0820792311839122, 1.0820778827570383, 1.0820767084941787, 1.082075685900154, 1.082074795385282, 1.0820740198901033, 1.0820733445585713, 1.08207275645346, 1.0820722443085282, 1.0820717983126906, 1.0820714099220723, 1.0820710716963318, 1.082070777156128, 1.082070520658999, 1.082070297291267, 1.0820701027739104, 1.082069933380588, 1.082069785866258, 1.0820696574050104, 1.0820695455359313, 1.0820694481159614, 1.082069363278842, 1.0820692893993602, 1.0820692250622181, 1.082069169034919, 1.082069120244155, 1.0820690777552497, 1.082069040754249, 1.0820690085323301, 1.0820689804722234, 1.0820689560363848, 1.0820689347567007, 1.0820689162255201, 1.0820689000878432]\n"
     ]
    }
   ],
   "source": [
    "a=1\n",
    "b=1\n",
    "n= data_X.shape[0]\n",
    "epochs= 101\n",
    "a_history= []\n",
    "b_history=[]\n",
    "loss_history=[]\n",
    "for epoch in range(epochs):\n",
    "    updated_ab=update_params(a, b, steps(gradient(data_X, data_Y, a, b)[0], \n",
    "                         gradient(data_X, data_Y, a, b)[1], learning_rate = 0.01)[0],\n",
    "             steps(gradient(data_X, data_Y, a, b)[0], \n",
    "                   gradient(data_X, data_Y, a, b)[1], learning_rate = 0.01)[1])\n",
    "    updated_a= updated_ab[0]\n",
    "    updated_b= updated_ab[1]\n",
    "    a_history.append(updated_a)\n",
    "    b_history.append(updated_b)\n",
    "    loss_his= loss(data_X, data_Y, a, b)\n",
    "    loss_history.append(loss_his)\n",
    "    a= updated_a\n",
    "    b= updated_b\n",
    "    \n",
    "print(a_history,  b_history, loss_history)   "
   ]
  },
  {
   "cell_type": "markdown",
   "metadata": {},
   "source": [
    "❓ What are the parameter values at the end of the 100 epochs? Save them to respective variables `a_100` and `b_100` "
   ]
  },
  {
   "cell_type": "code",
   "execution_count": 106,
   "metadata": {
    "tags": [
     "challengify"
    ]
   },
   "outputs": [],
   "source": [
    "a_100= a_history[100]\n",
    "b_100= b_history[100]"
   ]
  },
  {
   "cell_type": "code",
   "execution_count": 107,
   "metadata": {},
   "outputs": [
    {
     "name": "stdout",
     "output_type": "stream",
     "text": [
      "\n",
      "\u001b[1m============================= test session starts ==============================\u001b[0m\n",
      "platform linux -- Python 3.10.6, pytest-7.1.3, pluggy-1.0.0 -- /home/parissa/.pyenv/versions/lewagon/bin/python3\n",
      "cachedir: .pytest_cache\n",
      "rootdir: /home/parissa/code/ParissaPeimaniyfard/05-ML/04-Under-the-hood/data-batch-gradient-descent/tests\n",
      "plugins: typeguard-2.13.3, anyio-3.6.2, asyncio-0.19.0\n",
      "asyncio: mode=strict\n",
      "\u001b[1mcollecting ... \u001b[0mcollected 2 items\n",
      "\n",
      "test_descent.py::TestDescent::test_a \u001b[31mFAILED\u001b[0m\u001b[31m                              [ 50%]\u001b[0m\n",
      "test_descent.py::TestDescent::test_b \u001b[31mFAILED\u001b[0m\u001b[31m                              [100%]\u001b[0m\n",
      "\n",
      "=================================== FAILURES ===================================\n",
      "\u001b[31m\u001b[1m______________________________ TestDescent.test_a ______________________________\u001b[0m\n",
      "\n",
      "self = <tests.test_descent.TestDescent testMethod=test_a>\n",
      "\n",
      "    \u001b[94mdef\u001b[39;49;00m \u001b[92mtest_a\u001b[39;49;00m(\u001b[96mself\u001b[39;49;00m):\n",
      "        res = \u001b[96mself\u001b[39;49;00m.result.a_100\n",
      "        \u001b[96mself\u001b[39;49;00m.assertGreater(res, \u001b[94m0.74\u001b[39;49;00m)\n",
      ">       \u001b[96mself\u001b[39;49;00m.assertLess(res, \u001b[94m0.78\u001b[39;49;00m)\n",
      "\u001b[1m\u001b[31mE       AssertionError: 1.0078562009803234 not less than 0.78\u001b[0m\n",
      "\n",
      "\u001b[1m\u001b[31mtest_descent.py\u001b[0m:8: AssertionError\n",
      "\u001b[31m\u001b[1m______________________________ TestDescent.test_b ______________________________\u001b[0m\n",
      "\n",
      "self = <tests.test_descent.TestDescent testMethod=test_b>\n",
      "\n",
      "    \u001b[94mdef\u001b[39;49;00m \u001b[92mtest_b\u001b[39;49;00m(\u001b[96mself\u001b[39;49;00m):\n",
      "        res = \u001b[96mself\u001b[39;49;00m.result.b_100\n",
      ">       \u001b[96mself\u001b[39;49;00m.assertGreater(res, \u001b[94m0.006\u001b[39;49;00m)\n",
      "\u001b[1m\u001b[31mE       AssertionError: -0.1517923733301405 not greater than 0.006\u001b[0m\n",
      "\n",
      "\u001b[1m\u001b[31mtest_descent.py\u001b[0m:12: AssertionError\n",
      "=========================== short test summary info ============================\n",
      "FAILED test_descent.py::TestDescent::test_a - AssertionError: 1.0078562009803...\n",
      "FAILED test_descent.py::TestDescent::test_b - AssertionError: -0.151792373330...\n",
      "\u001b[31m============================== \u001b[31m\u001b[1m2 failed\u001b[0m\u001b[31m in 0.26s\u001b[0m\u001b[31m ===============================\u001b[0m\n",
      "\n",
      "\n",
      "💯 You can commit your code:\n",
      "\n",
      "\u001b[1;32mgit\u001b[39m add tests/descent.pickle\n",
      "\n",
      "\u001b[32mgit\u001b[39m commit -m \u001b[33m'Completed descent step'\u001b[39m\n",
      "\n",
      "\u001b[32mgit\u001b[39m push origin master\n",
      "\n"
     ]
    }
   ],
   "source": [
    "# 🧪 Test your code\n",
    "from nbresult import ChallengeResult\n",
    "result = ChallengeResult('descent',\n",
    "                         a_100=a_100,\n",
    "                         b_100=b_100)\n",
    "result.write()\n",
    "print(result.check())"
   ]
  },
  {
   "cell_type": "markdown",
   "metadata": {},
   "source": [
    "## 4. Visual check"
   ]
  },
  {
   "cell_type": "markdown",
   "metadata": {},
   "source": [
    "❓ Wrap this iterative approach into a method `gradient_descent()` which returns your `new_a`, `new_b` and `history`, a dictionary containing these lists: \n",
    "- `loss_history`\n",
    "- `a_history`\n",
    "- `b_history`"
   ]
  },
  {
   "cell_type": "code",
   "execution_count": null,
   "metadata": {},
   "outputs": [],
   "source": [
    "def gradient_descent(X, Y, a_init=1, b_init=1, learning_rate=0.001, n_epochs=100):\n",
    "    pass  # YOUR CODE HERE\n",
    "    return a, b, history"
   ]
  },
  {
   "cell_type": "markdown",
   "metadata": {},
   "source": [
    "❓ Plot the line of best fit through Zinc and Phosphorus using the parameters of your Gradient Descent."
   ]
  },
  {
   "cell_type": "code",
   "execution_count": null,
   "metadata": {
    "tags": [
     "challengify"
    ]
   },
   "outputs": [],
   "source": [
    "# YOUR CODE HERE"
   ]
  },
  {
   "cell_type": "markdown",
   "metadata": {},
   "source": [
    "## 5. Visualize your descent"
   ]
  },
  {
   "cell_type": "markdown",
   "metadata": {},
   "source": [
    "🎯 Our goal is to plot our loss function and the descent steps on a 2D surface using matplotlib [contourf]"
   ]
  },
  {
   "cell_type": "markdown",
   "metadata": {},
   "source": [
    "❓ Start by creating the data we need for the plot\n",
    "- `range_a`: a range of 100 values for `a` equally spaced between -1 and 1\n",
    "- `range_b`: a range of 100 values for `b` equally spaced between -1 and 1 \n",
    "- `Z`: a 2D-array where each element `Z[j,i]` is equal to the value of the loss function at `a` = `range_a[i]` and `b` = `range_b[j]`"
   ]
  },
  {
   "cell_type": "code",
   "execution_count": null,
   "metadata": {
    "tags": [
     "challengify"
    ]
   },
   "outputs": [],
   "source": [
    "# YOUR CODE HERE"
   ]
  },
  {
   "cell_type": "code",
   "execution_count": null,
   "metadata": {
    "tags": [
     "challengify"
    ]
   },
   "outputs": [],
   "source": [
    "# YOUR CODE HERE"
   ]
  },
  {
   "cell_type": "markdown",
   "metadata": {},
   "source": [
    "❓ Now, plot in one single subplot:\n",
    "- your gradient as a 2D-surface using matplotlib [contourf](https://matplotlib.org/api/_as_gen/matplotlib.pyplot.contourf.html) with 3 parameters\n",
    "- all historical (a,b) points as a scatterplot with red dots to visualize your gradient descent!\n",
    "\n",
    "Change your learning rate and observe its impact on the graph!"
   ]
  },
  {
   "cell_type": "code",
   "execution_count": null,
   "metadata": {
    "tags": [
     "challengify"
    ]
   },
   "outputs": [],
   "source": [
    "# YOUR CODE HERE"
   ]
  },
  {
   "cell_type": "markdown",
   "metadata": {},
   "source": [
    "❓ [optional] What about 3D? Try to plot the same data on a [plot.ly 3D contour plot](https://plotly.com/python/3d-surface-plots/) below"
   ]
  },
  {
   "cell_type": "code",
   "execution_count": null,
   "metadata": {},
   "outputs": [],
   "source": [
    "import plotly.graph_objects as go\n",
    "\n",
    "surface = go.Surface(x=range_a, y=range_b, z=Z)\n",
    "scatter = go.Scatter3d(x=history['a'], y=history['b'], z=history['loss'], mode='markers')\n",
    "fig = go.Figure(data=[surface, scatter])\n",
    "\n",
    "#fig.update_layout(title='Loss Function', autosize=False, width=500, height=500)\n",
    "fig.show()"
   ]
  },
  {
   "cell_type": "markdown",
   "metadata": {},
   "source": [
    "❓ Plot the history of the `loss` values as a function of the number of `epochs`. Try with multiple variations of `learning_rate` from 0.001 to 0.01 and make sure to understand the difference"
   ]
  },
  {
   "cell_type": "code",
   "execution_count": null,
   "metadata": {
    "tags": [
     "challengify"
    ]
   },
   "outputs": [],
   "source": [
    "# YOUR CODE HERE"
   ]
  },
  {
   "cell_type": "markdown",
   "metadata": {},
   "source": [
    "## 6. With Sklearn..."
   ]
  },
  {
   "cell_type": "markdown",
   "metadata": {},
   "source": [
    "❓ Using Sklearn, train a Linear Regression model on the same data. Compare its parameters to the ones computed by your Gradient Descent."
   ]
  },
  {
   "cell_type": "code",
   "execution_count": null,
   "metadata": {
    "tags": [
     "challengify"
    ]
   },
   "outputs": [],
   "source": [
    "# YOUR CODE HERE"
   ]
  },
  {
   "cell_type": "markdown",
   "metadata": {},
   "source": [
    "They should be almost identical!"
   ]
  },
  {
   "cell_type": "markdown",
   "metadata": {},
   "source": [
    "### 🏁 Congratulation! Please, push your exercise when you are done"
   ]
  }
 ],
 "metadata": {
  "kernelspec": {
   "display_name": "Python 3 (ipykernel)",
   "language": "python",
   "name": "python3"
  },
  "language_info": {
   "codemirror_mode": {
    "name": "ipython",
    "version": 3
   },
   "file_extension": ".py",
   "mimetype": "text/x-python",
   "name": "python",
   "nbconvert_exporter": "python",
   "pygments_lexer": "ipython3",
   "version": "3.10.6"
  },
  "toc": {
   "base_numbering": 1,
   "nav_menu": {},
   "number_sections": true,
   "sideBar": true,
   "skip_h1_title": false,
   "title_cell": "Table of Contents",
   "title_sidebar": "Contents",
   "toc_cell": false,
   "toc_position": {},
   "toc_section_display": true,
   "toc_window_display": false
  }
 },
 "nbformat": 4,
 "nbformat_minor": 4
}
